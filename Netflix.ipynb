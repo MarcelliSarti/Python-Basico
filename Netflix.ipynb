{
  "nbformat": 4,
  "nbformat_minor": 0,
  "metadata": {
    "colab": {
      "provenance": [],
      "authorship_tag": "ABX9TyMlz7En+XPJPDKVTTQQmbIR",
      "include_colab_link": true
    },
    "kernelspec": {
      "name": "python3",
      "display_name": "Python 3"
    },
    "language_info": {
      "name": "python"
    }
  },
  "cells": [
    {
      "cell_type": "markdown",
      "metadata": {
        "id": "view-in-github",
        "colab_type": "text"
      },
      "source": [
        "<a href=\"https://colab.research.google.com/github/MarcelliSarti/Python-Basico/blob/main/Netflix.ipynb\" target=\"_parent\"><img src=\"https://colab.research.google.com/assets/colab-badge.svg\" alt=\"Open In Colab\"/></a>"
      ]
    },
    {
      "cell_type": "code",
      "metadata": {
        "id": "ZcgkMaDvVQiY"
      },
      "source": [
        "import pandas as pd\n",
        "from google.colab import files\n",
        "upload = files.upload()"
      ],
      "execution_count": null,
      "outputs": []
    },
    {
      "cell_type": "code",
      "metadata": {
        "id": "_kpXsNIEXcl3"
      },
      "source": [
        "df = pd.read_csv('netflix_titles.csv')"
      ],
      "execution_count": null,
      "outputs": []
    },
    {
      "cell_type": "code",
      "metadata": {
        "colab": {
          "base_uri": "https://localhost:8080/",
          "height": 294
        },
        "id": "WQ9yEvD9bGuH",
        "outputId": "8b73eb33-b9f1-4ad7-d0b5-3fbc7af69f52"
      },
      "source": [
        "df.head(2)"
      ],
      "execution_count": null,
      "outputs": [
        {
          "output_type": "execute_result",
          "data": {
            "text/html": [
              "<div>\n",
              "<style scoped>\n",
              "    .dataframe tbody tr th:only-of-type {\n",
              "        vertical-align: middle;\n",
              "    }\n",
              "\n",
              "    .dataframe tbody tr th {\n",
              "        vertical-align: top;\n",
              "    }\n",
              "\n",
              "    .dataframe thead th {\n",
              "        text-align: right;\n",
              "    }\n",
              "</style>\n",
              "<table border=\"1\" class=\"dataframe\">\n",
              "  <thead>\n",
              "    <tr style=\"text-align: right;\">\n",
              "      <th></th>\n",
              "      <th>id_programa</th>\n",
              "      <th>serie_filme</th>\n",
              "      <th>titulo</th>\n",
              "      <th>diretor</th>\n",
              "      <th>elenco</th>\n",
              "      <th>pais</th>\n",
              "      <th>adicionado_na_netflix_em</th>\n",
              "      <th>ano_de_lancamento</th>\n",
              "      <th>classificacao</th>\n",
              "      <th>duracao</th>\n",
              "      <th>listado</th>\n",
              "      <th>descricao</th>\n",
              "    </tr>\n",
              "  </thead>\n",
              "  <tbody>\n",
              "    <tr>\n",
              "      <th>0</th>\n",
              "      <td>s1</td>\n",
              "      <td>serie</td>\n",
              "      <td>3%</td>\n",
              "      <td>NaN</td>\n",
              "      <td>João Miguel, Bianca Comparato, Michel Gomes, R...</td>\n",
              "      <td>Brazil</td>\n",
              "      <td>August 14, 2020</td>\n",
              "      <td>2020</td>\n",
              "      <td>TV-MA</td>\n",
              "      <td>4 Seasons</td>\n",
              "      <td>International TV Shows, TV Dramas, TV Sci-Fi &amp;...</td>\n",
              "      <td>In a future where the elite inhabit an island ...</td>\n",
              "    </tr>\n",
              "    <tr>\n",
              "      <th>1</th>\n",
              "      <td>s2</td>\n",
              "      <td>filme</td>\n",
              "      <td>7:19</td>\n",
              "      <td>Jorge Michel Grau</td>\n",
              "      <td>Demián Bichir, Héctor Bonilla, Oscar Serrano, ...</td>\n",
              "      <td>Mexico</td>\n",
              "      <td>December 23, 2016</td>\n",
              "      <td>2016</td>\n",
              "      <td>TV-MA</td>\n",
              "      <td>93 min</td>\n",
              "      <td>Dramas, International Movies</td>\n",
              "      <td>After a devastating earthquake hits Mexico Cit...</td>\n",
              "    </tr>\n",
              "  </tbody>\n",
              "</table>\n",
              "</div>"
            ],
            "text/plain": [
              "  id_programa  ...                                          descricao\n",
              "0          s1  ...  In a future where the elite inhabit an island ...\n",
              "1          s2  ...  After a devastating earthquake hits Mexico Cit...\n",
              "\n",
              "[2 rows x 12 columns]"
            ]
          },
          "metadata": {
            "tags": []
          },
          "execution_count": 21
        }
      ]
    },
    {
      "cell_type": "code",
      "metadata": {
        "colab": {
          "base_uri": "https://localhost:8080/"
        },
        "id": "IIVOrWE8bx-1",
        "outputId": "adcecc9a-df51-42a9-ce5d-4bc15fcc5952"
      },
      "source": [
        "df.shape"
      ],
      "execution_count": null,
      "outputs": [
        {
          "output_type": "execute_result",
          "data": {
            "text/plain": [
              "(7787, 12)"
            ]
          },
          "metadata": {
            "tags": []
          },
          "execution_count": 10
        }
      ]
    },
    {
      "cell_type": "code",
      "metadata": {
        "colab": {
          "base_uri": "https://localhost:8080/"
        },
        "id": "yL_aJpP2cO5O",
        "outputId": "f05e9a68-985f-49a4-8af1-28227a1dd440"
      },
      "source": [
        "linhas=df.shape[0]\n",
        "colunas=df.shape[1]\n",
        "print(f'Esta base de dados possui {linhas} linhas e {colunas} colunas')"
      ],
      "execution_count": null,
      "outputs": [
        {
          "output_type": "stream",
          "text": [
            "Esta base de dados possui 7787 linhas e 12 colunas\n"
          ],
          "name": "stdout"
        }
      ]
    },
    {
      "cell_type": "code",
      "metadata": {
        "id": "lu8vt9lIcqdn"
      },
      "source": [
        "df.columns"
      ],
      "execution_count": null,
      "outputs": []
    },
    {
      "cell_type": "code",
      "metadata": {
        "id": "Eu-dtJLRdQPz"
      },
      "source": [
        "renomear = {\n",
        "    'show_id':'id_programa',\n",
        "    'type':'serie_filme',\n",
        "    'title':'titulo',\n",
        "    'director':'diretor',\n",
        "    'cast':'elenco',\n",
        "    'country':'pais',\n",
        "    'date_added':'adicionado_na_netflix_em',\n",
        "    'release_year':'ano_de_lancamento',\n",
        "    'rating':'classificacao',\n",
        "    'duration':'duracao',\n",
        "    'listed_in':'listado',\n",
        "    'description':'descricao'\n",
        "}\n",
        "\n",
        "df = df.rename(columns=renomear)"
      ],
      "execution_count": null,
      "outputs": []
    },
    {
      "cell_type": "code",
      "metadata": {
        "colab": {
          "base_uri": "https://localhost:8080/"
        },
        "id": "lreRJgn8fgJM",
        "outputId": "5cf4c5fc-8607-4cce-bfdd-80dde9322af2"
      },
      "source": [
        "df.serie_filme.unique()"
      ],
      "execution_count": null,
      "outputs": [
        {
          "output_type": "execute_result",
          "data": {
            "text/plain": [
              "array(['TV Show', 'Movie'], dtype=object)"
            ]
          },
          "metadata": {
            "tags": []
          },
          "execution_count": 18
        }
      ]
    },
    {
      "cell_type": "code",
      "metadata": {
        "id": "vtYp5XxOf-Rh"
      },
      "source": [
        "renomear = {\n",
        "    'TV Show':'serie', 'Movie':'filme'\n",
        "}\n",
        "df.serie_filme = df.serie_filme.map(renomear)"
      ],
      "execution_count": null,
      "outputs": []
    },
    {
      "cell_type": "code",
      "metadata": {
        "colab": {
          "base_uri": "https://localhost:8080/"
        },
        "id": "dOZcl3KqgtAU",
        "outputId": "6f70b263-43aa-4fd6-a749-d2a58bf1c055"
      },
      "source": [
        "df.serie_filme.value_counts()"
      ],
      "execution_count": null,
      "outputs": [
        {
          "output_type": "execute_result",
          "data": {
            "text/plain": [
              "filme    5377\n",
              "serie    2410\n",
              "Name: serie_filme, dtype: int64"
            ]
          },
          "metadata": {
            "tags": []
          },
          "execution_count": 23
        }
      ]
    },
    {
      "cell_type": "code",
      "metadata": {
        "id": "lvgzsqcEhe6A"
      },
      "source": [
        "import seaborn as sns"
      ],
      "execution_count": null,
      "outputs": []
    },
    {
      "cell_type": "code",
      "metadata": {
        "colab": {
          "base_uri": "https://localhost:8080/",
          "height": 298
        },
        "id": "kFBfQs9Ghiz8",
        "outputId": "4571a490-78c3-4d2f-d0be-a6d530d3a2d2"
      },
      "source": [
        "sns.histplot(data=df, x='serie_filme')"
      ],
      "execution_count": null,
      "outputs": [
        {
          "output_type": "execute_result",
          "data": {
            "text/plain": [
              "<matplotlib.axes._subplots.AxesSubplot at 0x7f8e6cae95d0>"
            ]
          },
          "metadata": {
            "tags": []
          },
          "execution_count": 25
        },
        {
          "output_type": "display_data",
          "data": {
            "image/png": "[encoded data removed]",
            "text/plain": [
              "<Figure size 432x288 with 1 Axes>"
            ]
          },
          "metadata": {
            "tags": [],
            "needs_background": "light"
          }
        }
      ]
    },
    {
      "cell_type": "code",
      "metadata": {
        "colab": {
          "base_uri": "https://localhost:8080/"
        },
        "id": "AYVJ-3Uvh4A7",
        "outputId": "b387ebe9-8f1b-42e2-eb7f-4bd5e0df5af9"
      },
      "source": [
        "df.pais == 'Brazil'"
      ],
      "execution_count": null,
      "outputs": [
        {
          "output_type": "execute_result",
          "data": {
            "text/plain": [
              "0        True\n",
              "1       False\n",
              "2       False\n",
              "3       False\n",
              "4       False\n",
              "        ...  \n",
              "7782    False\n",
              "7783    False\n",
              "7784    False\n",
              "7785    False\n",
              "7786    False\n",
              "Name: pais, Length: 7787, dtype: bool"
            ]
          },
          "metadata": {
            "tags": []
          },
          "execution_count": 26
        }
      ]
    },
    {
      "cell_type": "code",
      "metadata": {
        "colab": {
          "base_uri": "https://localhost:8080/",
          "height": 278
        },
        "id": "kuKTC07IiQQQ",
        "outputId": "d485266f-b330-48fd-fa5c-4dce343c865f"
      },
      "source": [
        "df[(df.pais == 'Brazil')].head(2)"
      ],
      "execution_count": null,
      "outputs": [
        {
          "output_type": "execute_result",
          "data": {
            "text/html": [
              "<div>\n",
              "<style scoped>\n",
              "    .dataframe tbody tr th:only-of-type {\n",
              "        vertical-align: middle;\n",
              "    }\n",
              "\n",
              "    .dataframe tbody tr th {\n",
              "        vertical-align: top;\n",
              "    }\n",
              "\n",
              "    .dataframe thead th {\n",
              "        text-align: right;\n",
              "    }\n",
              "</style>\n",
              "<table border=\"1\" class=\"dataframe\">\n",
              "  <thead>\n",
              "    <tr style=\"text-align: right;\">\n",
              "      <th></th>\n",
              "      <th>id_programa</th>\n",
              "      <th>serie_filme</th>\n",
              "      <th>titulo</th>\n",
              "      <th>diretor</th>\n",
              "      <th>elenco</th>\n",
              "      <th>pais</th>\n",
              "      <th>adicionado_na_netflix_em</th>\n",
              "      <th>ano_de_lancamento</th>\n",
              "      <th>classificacao</th>\n",
              "      <th>duracao</th>\n",
              "      <th>listado</th>\n",
              "      <th>descricao</th>\n",
              "    </tr>\n",
              "  </thead>\n",
              "  <tbody>\n",
              "    <tr>\n",
              "      <th>0</th>\n",
              "      <td>s1</td>\n",
              "      <td>serie</td>\n",
              "      <td>3%</td>\n",
              "      <td>NaN</td>\n",
              "      <td>João Miguel, Bianca Comparato, Michel Gomes, R...</td>\n",
              "      <td>Brazil</td>\n",
              "      <td>August 14, 2020</td>\n",
              "      <td>2020</td>\n",
              "      <td>TV-MA</td>\n",
              "      <td>4 Seasons</td>\n",
              "      <td>International TV Shows, TV Dramas, TV Sci-Fi &amp;...</td>\n",
              "      <td>In a future where the elite inhabit an island ...</td>\n",
              "    </tr>\n",
              "    <tr>\n",
              "      <th>208</th>\n",
              "      <td>s209</td>\n",
              "      <td>filme</td>\n",
              "      <td>A new Capitalism</td>\n",
              "      <td>NaN</td>\n",
              "      <td>NaN</td>\n",
              "      <td>Brazil</td>\n",
              "      <td>June 12, 2018</td>\n",
              "      <td>2017</td>\n",
              "      <td>TV-14</td>\n",
              "      <td>76 min</td>\n",
              "      <td>Documentaries, International Movies</td>\n",
              "      <td>Entrepreneurs worldwide explore alternatives t...</td>\n",
              "    </tr>\n",
              "  </tbody>\n",
              "</table>\n",
              "</div>"
            ],
            "text/plain": [
              "    id_programa  ...                                          descricao\n",
              "0            s1  ...  In a future where the elite inhabit an island ...\n",
              "208        s209  ...  Entrepreneurs worldwide explore alternatives t...\n",
              "\n",
              "[2 rows x 12 columns]"
            ]
          },
          "metadata": {
            "tags": []
          },
          "execution_count": 29
        }
      ]
    },
    {
      "cell_type": "code",
      "metadata": {
        "id": "-09DNQt_id0q"
      },
      "source": [
        "df_br = df[(df.pais == 'Brazil')]"
      ],
      "execution_count": null,
      "outputs": []
    },
    {
      "cell_type": "code",
      "metadata": {
        "id": "X0ftlIrii35u"
      },
      "source": [
        "df_br"
      ],
      "execution_count": null,
      "outputs": []
    },
    {
      "cell_type": "code",
      "metadata": {
        "colab": {
          "base_uri": "https://localhost:8080/",
          "height": 402
        },
        "id": "ZC5wRGjGi46l",
        "outputId": "e88db934-3333-4a51-ba7f-37a3dfff330c"
      },
      "source": [
        "sns.catplot(x='ano_de_lancamento', y='serie_filme', data=df_br)"
      ],
      "execution_count": null,
      "outputs": [
        {
          "output_type": "execute_result",
          "data": {
            "text/plain": [
              "<seaborn.axisgrid.FacetGrid at 0x7f8e6c6ea910>"
            ]
          },
          "metadata": {
            "tags": []
          },
          "execution_count": 33
        },
        {
          "output_type": "display_data",
          "data": {
            "image/png": "[encoded data removed]",
            "text/plain": [
              "<Figure size 360x360 with 1 Axes>"
            ]
          },
          "metadata": {
            "tags": [],
            "needs_background": "light"
          }
        }
      ]
    },
    {
      "cell_type": "code",
      "metadata": {
        "colab": {
          "base_uri": "https://localhost:8080/"
        },
        "id": "CoKmNPZxjds-",
        "outputId": "4b92b622-b406-4389-f479-f0533f7b77dc"
      },
      "source": [
        "df_br.serie_filme.value_counts()"
      ],
      "execution_count": null,
      "outputs": [
        {
          "output_type": "execute_result",
          "data": {
            "text/plain": [
              "filme    46\n",
              "serie    26\n",
              "Name: serie_filme, dtype: int64"
            ]
          },
          "metadata": {
            "tags": []
          },
          "execution_count": 34
        }
      ]
    },
    {
      "cell_type": "code",
      "metadata": {
        "colab": {
          "base_uri": "https://localhost:8080/",
          "height": 298
        },
        "id": "o0hRYxqdjhod",
        "outputId": "09b98c0c-26b1-4609-930a-d838685ecf62"
      },
      "source": [
        "sns.histplot(data=df_br,x='serie_filme')"
      ],
      "execution_count": null,
      "outputs": [
        {
          "output_type": "execute_result",
          "data": {
            "text/plain": [
              "<matplotlib.axes._subplots.AxesSubplot at 0x7f8e6290f650>"
            ]
          },
          "metadata": {
            "tags": []
          },
          "execution_count": 35
        },
        {
          "output_type": "display_data",
          "data": {
            "image/png": "[encoded data removed]",
            "text/plain": [
              "<Figure size 432x288 with 1 Axes>"
            ]
          },
          "metadata": {
            "tags": [],
            "needs_background": "light"
          }
        }
      ]
    },
    {
      "cell_type": "code",
      "metadata": {
        "id": "I6Qs6vBgjvcw"
      },
      "source": [
        "df_br.loc[df.serie_filme == 'serie'][['titulo', 'ano_de_lancamento']]"
      ],
      "execution_count": null,
      "outputs": []
    },
    {
      "cell_type": "code",
      "metadata": {
        "id": "bS9JNs-zk2AH"
      },
      "source": [
        "paises = df.pais.value_counts()"
      ],
      "execution_count": null,
      "outputs": []
    },
    {
      "cell_type": "code",
      "metadata": {
        "id": "QsOAwWYzleaj"
      },
      "source": [
        "paises.head(15)"
      ],
      "execution_count": null,
      "outputs": []
    },
    {
      "cell_type": "code",
      "metadata": {
        "id": "r8orQ3Lclj-L"
      },
      "source": [
        "len(paises.unique())"
      ],
      "execution_count": null,
      "outputs": []
    },
    {
      "cell_type": "code",
      "metadata": {
        "colab": {
          "base_uri": "https://localhost:8080/",
          "height": 466
        },
        "id": "sBjmHZNXlshh",
        "outputId": "21c0680e-894f-4f02-a6ba-c5bd355dcd8f"
      },
      "source": [
        "plot = paises[0:15].plot.pie(y=paises.value_counts(), figsize=(12,8))"
      ],
      "execution_count": null,
      "outputs": [
        {
          "output_type": "display_data",
          "data": {
            "image/png": "[encoded data removed]",
            "text/plain": [
              "<Figure size 864x576 with 1 Axes>"
            ]
          },
          "metadata": {
            "tags": []
          }
        }
      ]
    },
    {
      "cell_type": "code",
      "metadata": {
        "id": "DmK-WZ5lmSRT"
      },
      "source": [],
      "execution_count": null,
      "outputs": []
    }
  ]
}